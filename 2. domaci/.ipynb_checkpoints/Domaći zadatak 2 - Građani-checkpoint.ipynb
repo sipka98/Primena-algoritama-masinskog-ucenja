{
 "cells": [
  {
   "cell_type": "markdown",
   "id": "80858372",
   "metadata": {},
   "source": [
    " # DOMAĆI ZADATAK 2\n",
    " "
   ]
  },
  {
   "cell_type": "code",
   "execution_count": 50,
   "id": "f3b62c68",
   "metadata": {},
   "outputs": [],
   "source": [
    "#Kreirati minimalno 3 modela za klasifikaciju (sa default parametrima) \n",
    "#proceniti grešku generalizacije za sve modele, na osnovu nekoliko metrika; \n",
    "#prikazati i standardnu devijaciju procene greške (od 10 kros-validacionih uzoraka) \n",
    "#odgovoriti da li su modeli pretrenirani; \n",
    "#prodiskutovati koja metrika je najadekvatnija za ovaj problem, i koji tip grešaka je skuplji;\n",
    "#modifikovati granicu odlučivanja, tako da model pravi više jeftinijih grešaka;"
   ]
  },
  {
   "cell_type": "code",
   "execution_count": 6,
   "id": "b329a3bf",
   "metadata": {},
   "outputs": [],
   "source": [
    "import numpy as np\n",
    "import pandas as pd\n",
    "from sklearn.model_selection import train_test_split\n",
    "import warnings\n",
    "warnings.filterwarnings(\"ignore\")\n",
    "\n",
    "from sklearn.linear_model import LogisticRegression\n",
    "from sklearn.naive_bayes import GaussianNB\n",
    "from sklearn.neighbors import KNeighborsClassifier\n",
    "from sklearn.metrics import precision_score, recall_score, f1_score,accuracy_score\n",
    "from sklearn.metrics import confusion_matrix\n",
    "\n",
    "import matplotlib.pyplot as plt\n",
    "import seaborn as sns\n",
    "\n",
    "from sklearn.model_selection import cross_validate\n",
    "from sklearn.model_selection import cross_val_score"
   ]
  },
  {
   "cell_type": "code",
   "execution_count": 7,
   "id": "1336537a",
   "metadata": {},
   "outputs": [
    {
     "data": {
      "text/html": [
       "<div>\n",
       "<style scoped>\n",
       "    .dataframe tbody tr th:only-of-type {\n",
       "        vertical-align: middle;\n",
       "    }\n",
       "\n",
       "    .dataframe tbody tr th {\n",
       "        vertical-align: top;\n",
       "    }\n",
       "\n",
       "    .dataframe thead th {\n",
       "        text-align: right;\n",
       "    }\n",
       "</style>\n",
       "<table border=\"1\" class=\"dataframe\">\n",
       "  <thead>\n",
       "    <tr style=\"text-align: right;\">\n",
       "      <th></th>\n",
       "      <th>fixed acidity</th>\n",
       "      <th>volatile acidity</th>\n",
       "      <th>citric acid</th>\n",
       "      <th>residual sugar</th>\n",
       "      <th>chlorides</th>\n",
       "      <th>free sulfur dioxide</th>\n",
       "      <th>total sulfur dioxide</th>\n",
       "      <th>density</th>\n",
       "      <th>pH</th>\n",
       "      <th>sulphates</th>\n",
       "      <th>alcohol</th>\n",
       "      <th>top_quality</th>\n",
       "    </tr>\n",
       "  </thead>\n",
       "  <tbody>\n",
       "    <tr>\n",
       "      <th>0</th>\n",
       "      <td>7.0</td>\n",
       "      <td>0.27</td>\n",
       "      <td>0.36</td>\n",
       "      <td>20.7</td>\n",
       "      <td>0.045</td>\n",
       "      <td>45.0</td>\n",
       "      <td>170.0</td>\n",
       "      <td>1.0010</td>\n",
       "      <td>3.00</td>\n",
       "      <td>0.45</td>\n",
       "      <td>8.8</td>\n",
       "      <td>0</td>\n",
       "    </tr>\n",
       "    <tr>\n",
       "      <th>1</th>\n",
       "      <td>6.3</td>\n",
       "      <td>0.30</td>\n",
       "      <td>0.34</td>\n",
       "      <td>1.6</td>\n",
       "      <td>0.049</td>\n",
       "      <td>14.0</td>\n",
       "      <td>132.0</td>\n",
       "      <td>0.9940</td>\n",
       "      <td>3.30</td>\n",
       "      <td>0.49</td>\n",
       "      <td>9.5</td>\n",
       "      <td>0</td>\n",
       "    </tr>\n",
       "    <tr>\n",
       "      <th>2</th>\n",
       "      <td>8.1</td>\n",
       "      <td>0.28</td>\n",
       "      <td>0.40</td>\n",
       "      <td>6.9</td>\n",
       "      <td>0.050</td>\n",
       "      <td>30.0</td>\n",
       "      <td>97.0</td>\n",
       "      <td>0.9951</td>\n",
       "      <td>3.26</td>\n",
       "      <td>0.44</td>\n",
       "      <td>10.1</td>\n",
       "      <td>0</td>\n",
       "    </tr>\n",
       "    <tr>\n",
       "      <th>3</th>\n",
       "      <td>7.2</td>\n",
       "      <td>0.23</td>\n",
       "      <td>0.32</td>\n",
       "      <td>8.5</td>\n",
       "      <td>0.058</td>\n",
       "      <td>47.0</td>\n",
       "      <td>186.0</td>\n",
       "      <td>0.9956</td>\n",
       "      <td>3.19</td>\n",
       "      <td>0.40</td>\n",
       "      <td>9.9</td>\n",
       "      <td>0</td>\n",
       "    </tr>\n",
       "    <tr>\n",
       "      <th>4</th>\n",
       "      <td>7.2</td>\n",
       "      <td>0.23</td>\n",
       "      <td>0.32</td>\n",
       "      <td>8.5</td>\n",
       "      <td>0.058</td>\n",
       "      <td>47.0</td>\n",
       "      <td>186.0</td>\n",
       "      <td>0.9956</td>\n",
       "      <td>3.19</td>\n",
       "      <td>0.40</td>\n",
       "      <td>9.9</td>\n",
       "      <td>0</td>\n",
       "    </tr>\n",
       "  </tbody>\n",
       "</table>\n",
       "</div>"
      ],
      "text/plain": [
       "   fixed acidity  volatile acidity  citric acid  residual sugar  chlorides  \\\n",
       "0            7.0              0.27         0.36            20.7      0.045   \n",
       "1            6.3              0.30         0.34             1.6      0.049   \n",
       "2            8.1              0.28         0.40             6.9      0.050   \n",
       "3            7.2              0.23         0.32             8.5      0.058   \n",
       "4            7.2              0.23         0.32             8.5      0.058   \n",
       "\n",
       "   free sulfur dioxide  total sulfur dioxide  density    pH  sulphates  \\\n",
       "0                 45.0                 170.0   1.0010  3.00       0.45   \n",
       "1                 14.0                 132.0   0.9940  3.30       0.49   \n",
       "2                 30.0                  97.0   0.9951  3.26       0.44   \n",
       "3                 47.0                 186.0   0.9956  3.19       0.40   \n",
       "4                 47.0                 186.0   0.9956  3.19       0.40   \n",
       "\n",
       "   alcohol  top_quality  \n",
       "0      8.8            0  \n",
       "1      9.5            0  \n",
       "2     10.1            0  \n",
       "3      9.9            0  \n",
       "4      9.9            0  "
      ]
     },
     "execution_count": 7,
     "metadata": {},
     "output_type": "execute_result"
    }
   ],
   "source": [
    "vina = pd.read_csv('wine_quality.csv')\n",
    "vina.head()"
   ]
  },
  {
   "cell_type": "code",
   "execution_count": 8,
   "id": "6f154b63",
   "metadata": {},
   "outputs": [
    {
     "data": {
      "text/html": [
       "<div>\n",
       "<style scoped>\n",
       "    .dataframe tbody tr th:only-of-type {\n",
       "        vertical-align: middle;\n",
       "    }\n",
       "\n",
       "    .dataframe tbody tr th {\n",
       "        vertical-align: top;\n",
       "    }\n",
       "\n",
       "    .dataframe thead th {\n",
       "        text-align: right;\n",
       "    }\n",
       "</style>\n",
       "<table border=\"1\" class=\"dataframe\">\n",
       "  <thead>\n",
       "    <tr style=\"text-align: right;\">\n",
       "      <th></th>\n",
       "      <th>fixed acidity</th>\n",
       "      <th>volatile acidity</th>\n",
       "      <th>citric acid</th>\n",
       "      <th>residual sugar</th>\n",
       "      <th>chlorides</th>\n",
       "      <th>free sulfur dioxide</th>\n",
       "      <th>total sulfur dioxide</th>\n",
       "      <th>density</th>\n",
       "      <th>pH</th>\n",
       "      <th>sulphates</th>\n",
       "      <th>alcohol</th>\n",
       "      <th>top_quality</th>\n",
       "    </tr>\n",
       "  </thead>\n",
       "  <tbody>\n",
       "    <tr>\n",
       "      <th>count</th>\n",
       "      <td>4898.000000</td>\n",
       "      <td>4898.000000</td>\n",
       "      <td>4898.000000</td>\n",
       "      <td>4898.000000</td>\n",
       "      <td>4898.000000</td>\n",
       "      <td>4898.000000</td>\n",
       "      <td>4898.000000</td>\n",
       "      <td>4898.000000</td>\n",
       "      <td>4898.000000</td>\n",
       "      <td>4898.000000</td>\n",
       "      <td>4898.000000</td>\n",
       "      <td>4898.000000</td>\n",
       "    </tr>\n",
       "    <tr>\n",
       "      <th>mean</th>\n",
       "      <td>6.854788</td>\n",
       "      <td>0.278241</td>\n",
       "      <td>0.334192</td>\n",
       "      <td>6.391415</td>\n",
       "      <td>0.045772</td>\n",
       "      <td>35.308085</td>\n",
       "      <td>138.360657</td>\n",
       "      <td>0.994027</td>\n",
       "      <td>3.188267</td>\n",
       "      <td>0.489847</td>\n",
       "      <td>10.514267</td>\n",
       "      <td>0.216415</td>\n",
       "    </tr>\n",
       "    <tr>\n",
       "      <th>std</th>\n",
       "      <td>0.843868</td>\n",
       "      <td>0.100795</td>\n",
       "      <td>0.121020</td>\n",
       "      <td>5.072058</td>\n",
       "      <td>0.021848</td>\n",
       "      <td>17.007137</td>\n",
       "      <td>42.498065</td>\n",
       "      <td>0.002991</td>\n",
       "      <td>0.151001</td>\n",
       "      <td>0.114126</td>\n",
       "      <td>1.230621</td>\n",
       "      <td>0.411842</td>\n",
       "    </tr>\n",
       "    <tr>\n",
       "      <th>min</th>\n",
       "      <td>3.800000</td>\n",
       "      <td>0.080000</td>\n",
       "      <td>0.000000</td>\n",
       "      <td>0.600000</td>\n",
       "      <td>0.009000</td>\n",
       "      <td>2.000000</td>\n",
       "      <td>9.000000</td>\n",
       "      <td>0.987110</td>\n",
       "      <td>2.720000</td>\n",
       "      <td>0.220000</td>\n",
       "      <td>8.000000</td>\n",
       "      <td>0.000000</td>\n",
       "    </tr>\n",
       "    <tr>\n",
       "      <th>25%</th>\n",
       "      <td>6.300000</td>\n",
       "      <td>0.210000</td>\n",
       "      <td>0.270000</td>\n",
       "      <td>1.700000</td>\n",
       "      <td>0.036000</td>\n",
       "      <td>23.000000</td>\n",
       "      <td>108.000000</td>\n",
       "      <td>0.991723</td>\n",
       "      <td>3.090000</td>\n",
       "      <td>0.410000</td>\n",
       "      <td>9.500000</td>\n",
       "      <td>0.000000</td>\n",
       "    </tr>\n",
       "    <tr>\n",
       "      <th>50%</th>\n",
       "      <td>6.800000</td>\n",
       "      <td>0.260000</td>\n",
       "      <td>0.320000</td>\n",
       "      <td>5.200000</td>\n",
       "      <td>0.043000</td>\n",
       "      <td>34.000000</td>\n",
       "      <td>134.000000</td>\n",
       "      <td>0.993740</td>\n",
       "      <td>3.180000</td>\n",
       "      <td>0.470000</td>\n",
       "      <td>10.400000</td>\n",
       "      <td>0.000000</td>\n",
       "    </tr>\n",
       "    <tr>\n",
       "      <th>75%</th>\n",
       "      <td>7.300000</td>\n",
       "      <td>0.320000</td>\n",
       "      <td>0.390000</td>\n",
       "      <td>9.900000</td>\n",
       "      <td>0.050000</td>\n",
       "      <td>46.000000</td>\n",
       "      <td>167.000000</td>\n",
       "      <td>0.996100</td>\n",
       "      <td>3.280000</td>\n",
       "      <td>0.550000</td>\n",
       "      <td>11.400000</td>\n",
       "      <td>0.000000</td>\n",
       "    </tr>\n",
       "    <tr>\n",
       "      <th>max</th>\n",
       "      <td>14.200000</td>\n",
       "      <td>1.100000</td>\n",
       "      <td>1.660000</td>\n",
       "      <td>65.800000</td>\n",
       "      <td>0.346000</td>\n",
       "      <td>289.000000</td>\n",
       "      <td>440.000000</td>\n",
       "      <td>1.038980</td>\n",
       "      <td>3.820000</td>\n",
       "      <td>1.080000</td>\n",
       "      <td>14.200000</td>\n",
       "      <td>1.000000</td>\n",
       "    </tr>\n",
       "  </tbody>\n",
       "</table>\n",
       "</div>"
      ],
      "text/plain": [
       "       fixed acidity  volatile acidity  citric acid  residual sugar  \\\n",
       "count    4898.000000       4898.000000  4898.000000     4898.000000   \n",
       "mean        6.854788          0.278241     0.334192        6.391415   \n",
       "std         0.843868          0.100795     0.121020        5.072058   \n",
       "min         3.800000          0.080000     0.000000        0.600000   \n",
       "25%         6.300000          0.210000     0.270000        1.700000   \n",
       "50%         6.800000          0.260000     0.320000        5.200000   \n",
       "75%         7.300000          0.320000     0.390000        9.900000   \n",
       "max        14.200000          1.100000     1.660000       65.800000   \n",
       "\n",
       "         chlorides  free sulfur dioxide  total sulfur dioxide      density  \\\n",
       "count  4898.000000          4898.000000           4898.000000  4898.000000   \n",
       "mean      0.045772            35.308085            138.360657     0.994027   \n",
       "std       0.021848            17.007137             42.498065     0.002991   \n",
       "min       0.009000             2.000000              9.000000     0.987110   \n",
       "25%       0.036000            23.000000            108.000000     0.991723   \n",
       "50%       0.043000            34.000000            134.000000     0.993740   \n",
       "75%       0.050000            46.000000            167.000000     0.996100   \n",
       "max       0.346000           289.000000            440.000000     1.038980   \n",
       "\n",
       "                pH    sulphates      alcohol  top_quality  \n",
       "count  4898.000000  4898.000000  4898.000000  4898.000000  \n",
       "mean      3.188267     0.489847    10.514267     0.216415  \n",
       "std       0.151001     0.114126     1.230621     0.411842  \n",
       "min       2.720000     0.220000     8.000000     0.000000  \n",
       "25%       3.090000     0.410000     9.500000     0.000000  \n",
       "50%       3.180000     0.470000    10.400000     0.000000  \n",
       "75%       3.280000     0.550000    11.400000     0.000000  \n",
       "max       3.820000     1.080000    14.200000     1.000000  "
      ]
     },
     "execution_count": 8,
     "metadata": {},
     "output_type": "execute_result"
    }
   ],
   "source": [
    "vina.describe()"
   ]
  },
  {
   "cell_type": "code",
   "execution_count": 9,
   "id": "3b8e00e6",
   "metadata": {},
   "outputs": [
    {
     "name": "stdout",
     "output_type": "stream",
     "text": [
      "<class 'pandas.core.frame.DataFrame'>\n",
      "RangeIndex: 4898 entries, 0 to 4897\n",
      "Data columns (total 12 columns):\n",
      " #   Column                Non-Null Count  Dtype  \n",
      "---  ------                --------------  -----  \n",
      " 0   fixed acidity         4898 non-null   float64\n",
      " 1   volatile acidity      4898 non-null   float64\n",
      " 2   citric acid           4898 non-null   float64\n",
      " 3   residual sugar        4898 non-null   float64\n",
      " 4   chlorides             4898 non-null   float64\n",
      " 5   free sulfur dioxide   4898 non-null   float64\n",
      " 6   total sulfur dioxide  4898 non-null   float64\n",
      " 7   density               4898 non-null   float64\n",
      " 8   pH                    4898 non-null   float64\n",
      " 9   sulphates             4898 non-null   float64\n",
      " 10  alcohol               4898 non-null   float64\n",
      " 11  top_quality           4898 non-null   int64  \n",
      "dtypes: float64(11), int64(1)\n",
      "memory usage: 459.3 KB\n"
     ]
    }
   ],
   "source": [
    "vina.info()"
   ]
  },
  {
   "cell_type": "code",
   "execution_count": 10,
   "id": "249c2b70",
   "metadata": {},
   "outputs": [],
   "source": [
    "# svi atributi osim izlazne varijable\n",
    "X = vina.iloc[:, :-1] \n",
    "\n",
    "#izlazna kolona \n",
    "y = vina.iloc[:, -1] \n"
   ]
  },
  {
   "cell_type": "code",
   "execution_count": 11,
   "id": "a0f37258",
   "metadata": {},
   "outputs": [
    {
     "data": {
      "text/html": [
       "<div>\n",
       "<style scoped>\n",
       "    .dataframe tbody tr th:only-of-type {\n",
       "        vertical-align: middle;\n",
       "    }\n",
       "\n",
       "    .dataframe tbody tr th {\n",
       "        vertical-align: top;\n",
       "    }\n",
       "\n",
       "    .dataframe thead th {\n",
       "        text-align: right;\n",
       "    }\n",
       "</style>\n",
       "<table border=\"1\" class=\"dataframe\">\n",
       "  <thead>\n",
       "    <tr style=\"text-align: right;\">\n",
       "      <th></th>\n",
       "      <th>fixed acidity</th>\n",
       "      <th>volatile acidity</th>\n",
       "      <th>citric acid</th>\n",
       "      <th>residual sugar</th>\n",
       "      <th>chlorides</th>\n",
       "      <th>free sulfur dioxide</th>\n",
       "      <th>total sulfur dioxide</th>\n",
       "      <th>density</th>\n",
       "      <th>pH</th>\n",
       "      <th>sulphates</th>\n",
       "      <th>alcohol</th>\n",
       "    </tr>\n",
       "  </thead>\n",
       "  <tbody>\n",
       "    <tr>\n",
       "      <th>0</th>\n",
       "      <td>7.0</td>\n",
       "      <td>0.27</td>\n",
       "      <td>0.36</td>\n",
       "      <td>20.7</td>\n",
       "      <td>0.045</td>\n",
       "      <td>45.0</td>\n",
       "      <td>170.0</td>\n",
       "      <td>1.0010</td>\n",
       "      <td>3.00</td>\n",
       "      <td>0.45</td>\n",
       "      <td>8.8</td>\n",
       "    </tr>\n",
       "    <tr>\n",
       "      <th>1</th>\n",
       "      <td>6.3</td>\n",
       "      <td>0.30</td>\n",
       "      <td>0.34</td>\n",
       "      <td>1.6</td>\n",
       "      <td>0.049</td>\n",
       "      <td>14.0</td>\n",
       "      <td>132.0</td>\n",
       "      <td>0.9940</td>\n",
       "      <td>3.30</td>\n",
       "      <td>0.49</td>\n",
       "      <td>9.5</td>\n",
       "    </tr>\n",
       "    <tr>\n",
       "      <th>2</th>\n",
       "      <td>8.1</td>\n",
       "      <td>0.28</td>\n",
       "      <td>0.40</td>\n",
       "      <td>6.9</td>\n",
       "      <td>0.050</td>\n",
       "      <td>30.0</td>\n",
       "      <td>97.0</td>\n",
       "      <td>0.9951</td>\n",
       "      <td>3.26</td>\n",
       "      <td>0.44</td>\n",
       "      <td>10.1</td>\n",
       "    </tr>\n",
       "    <tr>\n",
       "      <th>3</th>\n",
       "      <td>7.2</td>\n",
       "      <td>0.23</td>\n",
       "      <td>0.32</td>\n",
       "      <td>8.5</td>\n",
       "      <td>0.058</td>\n",
       "      <td>47.0</td>\n",
       "      <td>186.0</td>\n",
       "      <td>0.9956</td>\n",
       "      <td>3.19</td>\n",
       "      <td>0.40</td>\n",
       "      <td>9.9</td>\n",
       "    </tr>\n",
       "    <tr>\n",
       "      <th>4</th>\n",
       "      <td>7.2</td>\n",
       "      <td>0.23</td>\n",
       "      <td>0.32</td>\n",
       "      <td>8.5</td>\n",
       "      <td>0.058</td>\n",
       "      <td>47.0</td>\n",
       "      <td>186.0</td>\n",
       "      <td>0.9956</td>\n",
       "      <td>3.19</td>\n",
       "      <td>0.40</td>\n",
       "      <td>9.9</td>\n",
       "    </tr>\n",
       "  </tbody>\n",
       "</table>\n",
       "</div>"
      ],
      "text/plain": [
       "   fixed acidity  volatile acidity  citric acid  residual sugar  chlorides  \\\n",
       "0            7.0              0.27         0.36            20.7      0.045   \n",
       "1            6.3              0.30         0.34             1.6      0.049   \n",
       "2            8.1              0.28         0.40             6.9      0.050   \n",
       "3            7.2              0.23         0.32             8.5      0.058   \n",
       "4            7.2              0.23         0.32             8.5      0.058   \n",
       "\n",
       "   free sulfur dioxide  total sulfur dioxide  density    pH  sulphates  \\\n",
       "0                 45.0                 170.0   1.0010  3.00       0.45   \n",
       "1                 14.0                 132.0   0.9940  3.30       0.49   \n",
       "2                 30.0                  97.0   0.9951  3.26       0.44   \n",
       "3                 47.0                 186.0   0.9956  3.19       0.40   \n",
       "4                 47.0                 186.0   0.9956  3.19       0.40   \n",
       "\n",
       "   alcohol  \n",
       "0      8.8  \n",
       "1      9.5  \n",
       "2     10.1  \n",
       "3      9.9  \n",
       "4      9.9  "
      ]
     },
     "execution_count": 11,
     "metadata": {},
     "output_type": "execute_result"
    }
   ],
   "source": [
    "X.head()"
   ]
  },
  {
   "cell_type": "markdown",
   "id": "b311c0b0",
   "metadata": {},
   "source": [
    "### PODELA NA TRAIN I TEST "
   ]
  },
  {
   "cell_type": "code",
   "execution_count": 12,
   "id": "192b7973",
   "metadata": {},
   "outputs": [],
   "source": [
    "X_train, X_test, y_train, y_test = train_test_split(X, y, test_size=0.3, random_state=4218)"
   ]
  },
  {
   "cell_type": "markdown",
   "id": "e2f894e6",
   "metadata": {},
   "source": [
    "#### LOGISTICKA REGRESIJA"
   ]
  },
  {
   "cell_type": "code",
   "execution_count": 13,
   "id": "f4fd7080",
   "metadata": {},
   "outputs": [],
   "source": [
    "algoritamLR = LogisticRegression()"
   ]
  },
  {
   "cell_type": "code",
   "execution_count": 14,
   "id": "ff7808db",
   "metadata": {},
   "outputs": [],
   "source": [
    "modelLR=algoritamLR.fit(X_train, y_train)"
   ]
  },
  {
   "cell_type": "code",
   "execution_count": 15,
   "id": "50df57fc",
   "metadata": {},
   "outputs": [],
   "source": [
    "# kreiramo predikcije na osnovu modela\n",
    "y_predikcijeLR = modelLR.predict(X_test)"
   ]
  },
  {
   "cell_type": "code",
   "execution_count": 16,
   "id": "2e81a2bb",
   "metadata": {},
   "outputs": [
    {
     "data": {
      "text/plain": [
       "array([[1116,   55],\n",
       "       [ 227,   72]], dtype=int64)"
      ]
     },
     "execution_count": 16,
     "metadata": {},
     "output_type": "execute_result"
    }
   ],
   "source": [
    "matricaKonfuzijeLR=confusion_matrix(y_true=y_test, y_pred=y_predikcijeLR)\n",
    "matricaKonfuzijeLR"
   ]
  },
  {
   "cell_type": "code",
   "execution_count": 17,
   "id": "37e87672",
   "metadata": {},
   "outputs": [],
   "source": [
    "def performanse(y, y_predikcije):\n",
    "    print(f'Accuracy: {accuracy_score(y, y_predikcije)}')\n",
    "    print(f'Precision: {precision_score(y, y_predikcije)}')\n",
    "    print(f'Recall: {recall_score(y, y_predikcije)}')\n",
    "    print(f'F1: {f1_score(y, y_predikcije)}')"
   ]
  },
  {
   "cell_type": "code",
   "execution_count": 18,
   "id": "7ff916ed",
   "metadata": {},
   "outputs": [
    {
     "name": "stdout",
     "output_type": "stream",
     "text": [
      "Accuracy: 0.8081632653061225\n",
      "Precision: 0.5669291338582677\n",
      "Recall: 0.2408026755852843\n",
      "F1: 0.33802816901408456\n"
     ]
    }
   ],
   "source": [
    "# performanse modela\n",
    "performanse(y_test, y_predikcijeLR)"
   ]
  },
  {
   "cell_type": "code",
   "execution_count": 19,
   "id": "200c927c",
   "metadata": {},
   "outputs": [
    {
     "data": {
      "text/plain": [
       "Text(50.722222222222214, 0.5, 'True')"
      ]
     },
     "execution_count": 19,
     "metadata": {},
     "output_type": "execute_result"
    },
    {
     "data": {
      "image/png": "[encoded data removed]",
      "text/plain": [
       "<Figure size 640x480 with 2 Axes>"
      ]
     },
     "metadata": {},
     "output_type": "display_data"
    }
   ],
   "source": [
    "#plotovana matrica konfuzije\n",
    "ax = plt.subplot()\n",
    "sns.heatmap(matricaKonfuzijeLR, ax=ax, annot=True, fmt='g')\n",
    "ax.set_xlabel('Predicted')\n",
    "ax.set_ylabel('True')"
   ]
  },
  {
   "cell_type": "markdown",
   "id": "347bafdf",
   "metadata": {},
   "source": [
    "#### KNN AlGORITAM"
   ]
  },
  {
   "cell_type": "code",
   "execution_count": 20,
   "id": "97783fcb",
   "metadata": {},
   "outputs": [
    {
     "name": "stdout",
     "output_type": "stream",
     "text": [
      "Accuracy: 0.7904761904761904\n",
      "Precision: 0.4796380090497738\n",
      "Recall: 0.35451505016722407\n",
      "F1: 0.40769230769230763\n"
     ]
    }
   ],
   "source": [
    "algoritamKNN = KNeighborsClassifier()\n",
    "\n",
    "modelKNN = algoritamKNN.fit(X_train, y_train)\n",
    "\n",
    "y_predikcijeKNN = modelKNN.predict(X_test)\n",
    "\n",
    "performanse(y_test, y_predikcijeKNN)"
   ]
  },
  {
   "cell_type": "code",
   "execution_count": 21,
   "id": "4b459a01",
   "metadata": {},
   "outputs": [],
   "source": [
    "matricaKonfuzijeKNN=confusion_matrix(y_true=y_test, y_pred=y_predikcijeKNN)"
   ]
  },
  {
   "cell_type": "code",
   "execution_count": 22,
   "id": "5132c3ac",
   "metadata": {},
   "outputs": [
    {
     "data": {
      "text/plain": [
       "Text(50.722222222222214, 0.5, 'True')"
      ]
     },
     "execution_count": 22,
     "metadata": {},
     "output_type": "execute_result"
    },
    {
     "data": {
      "image/png": "[encoded data removed]",
      "text/plain": [
       "<Figure size 640x480 with 2 Axes>"
      ]
     },
     "metadata": {},
     "output_type": "display_data"
    }
   ],
   "source": [
    "ax = plt.subplot()\n",
    "sns.heatmap(matricaKonfuzijeKNN, ax=ax, annot=True, fmt='g')\n",
    "ax.set_xlabel('Predicted')\n",
    "ax.set_ylabel('True')"
   ]
  },
  {
   "cell_type": "markdown",
   "id": "4e54313b",
   "metadata": {},
   "source": [
    "#### NAIVNI BAJES"
   ]
  },
  {
   "cell_type": "code",
   "execution_count": 23,
   "id": "00dab018",
   "metadata": {},
   "outputs": [
    {
     "name": "stdout",
     "output_type": "stream",
     "text": [
      "Accuracy: 0.7904761904761904\n",
      "Precision: 0.4796380090497738\n",
      "Recall: 0.35451505016722407\n",
      "F1: 0.40769230769230763\n"
     ]
    }
   ],
   "source": [
    "algoritamNB = KNeighborsClassifier()\n",
    "\n",
    "modelNB=algoritamNB.fit(X_train, y_train)\n",
    "\n",
    "y_predikcijeNB = modelNB.predict(X_test)\n",
    "\n",
    "performanse(y_test, y_predikcijeNB)"
   ]
  },
  {
   "cell_type": "code",
   "execution_count": 24,
   "id": "f2ae78e8",
   "metadata": {},
   "outputs": [],
   "source": [
    "matricaKonfuzijeNB=confusion_matrix(y_true=y_test, y_pred=y_predikcijeNB)"
   ]
  },
  {
   "cell_type": "code",
   "execution_count": 25,
   "id": "6fb4ce60",
   "metadata": {},
   "outputs": [
    {
     "data": {
      "text/plain": [
       "Text(50.722222222222214, 0.5, 'True')"
      ]
     },
     "execution_count": 25,
     "metadata": {},
     "output_type": "execute_result"
    },
    {
     "data": {
      "image/png": "[encoded data removed]",
      "text/plain": [
       "<Figure size 640x480 with 2 Axes>"
      ]
     },
     "metadata": {},
     "output_type": "display_data"
    }
   ],
   "source": [
    "ax = plt.subplot()\n",
    "sns.heatmap(matricaKonfuzijeNB, ax=ax, annot=True, fmt='g')\n",
    "ax.set_xlabel('Predicted')\n",
    "ax.set_ylabel('True')"
   ]
  },
  {
   "cell_type": "markdown",
   "id": "513e7c11",
   "metadata": {},
   "source": [
    "### CROSS VALIDACIJA"
   ]
  },
  {
   "cell_type": "markdown",
   "id": "40f1332a",
   "metadata": {},
   "source": [
    "#### LOGISTICKA REGRESIJA"
   ]
  },
  {
   "cell_type": "code",
   "execution_count": 26,
   "id": "d4538e0d",
   "metadata": {},
   "outputs": [
    {
     "data": {
      "text/plain": [
       "'Tačnost iznosi 79.48% +/- 2.35%'"
      ]
     },
     "execution_count": 26,
     "metadata": {},
     "output_type": "execute_result"
    }
   ],
   "source": [
    "algoritamLR = LogisticRegression()\n",
    "\n",
    "rezultat_tacnostLR = cross_val_score(algoritamLR, X, y, cv=10, scoring='accuracy')\n",
    "f'Tačnost iznosi {round(np.mean(rezultat_tacnostLR) * 100, 2)}% +/- {round(np.std(rezultat_tacnostLR)*100, 2)}%'"
   ]
  },
  {
   "cell_type": "code",
   "execution_count": 27,
   "id": "70b7341b",
   "metadata": {},
   "outputs": [
    {
     "data": {
      "text/plain": [
       "{'fit_time': array([0.02506876, 0.02381015, 0.02005267, 0.01904988, 0.01905012,\n",
       "        0.01904988, 0.01904988, 0.01804733, 0.02005243, 0.01904988]),\n",
       " 'score_time': array([0.00601006, 0.00601554, 0.00501299, 0.00503087, 0.00401044,\n",
       "        0.00401068, 0.00501299, 0.00501323, 0.00501275, 0.00501323]),\n",
       " 'test_accuracy': array([0.80612245, 0.7877551 , 0.7877551 , 0.78571429, 0.80816327,\n",
       "        0.82040816, 0.77959184, 0.83469388, 0.79345603, 0.74437628]),\n",
       " 'train_accuracy': array([0.79786751, 0.80036298, 0.79854809, 0.79922868, 0.79922868,\n",
       "        0.79627949, 0.79990926, 0.79446461, 0.79950102, 0.80131549]),\n",
       " 'test_precision': array([0.92307692, 0.58333333, 0.54545455, 0.57142857, 0.92857143,\n",
       "        0.75      , 0.4875    , 0.65822785, 0.53731343, 0.3956044 ]),\n",
       " 'train_precision': array([0.6       , 0.59536082, 0.59705882, 0.57931034, 0.59400545,\n",
       "        0.59150327, 0.59574468, 0.58219178, 0.59210526, 0.59605911]),\n",
       " 'test_recall': array([0.11320755, 0.06603774, 0.11320755, 0.03773585, 0.12264151,\n",
       "        0.25471698, 0.36792453, 0.49056604, 0.33962264, 0.33962264]),\n",
       " 'train_recall': array([0.19811321, 0.24213836, 0.21278826, 0.26415094, 0.22851153,\n",
       "        0.18972746, 0.23480084, 0.17819706, 0.23584906, 0.25366876]),\n",
       " 'test_f1': array([0.20168067, 0.11864407, 0.1875    , 0.07079646, 0.21666667,\n",
       "        0.38028169, 0.41935484, 0.56216216, 0.41618497, 0.36548223]),\n",
       " 'train_f1': array([0.29787234, 0.3442623 , 0.3137558 , 0.36285097, 0.33005299,\n",
       "        0.28730159, 0.33684211, 0.27287319, 0.33733133, 0.35588235])}"
      ]
     },
     "execution_count": 27,
     "metadata": {},
     "output_type": "execute_result"
    }
   ],
   "source": [
    "rezultatLR = cross_validate(algoritamLR, X, y, cv=10, scoring=['accuracy', 'precision', 'recall', 'f1'], return_train_score = True)\n",
    "rezultatLR"
   ]
  },
  {
   "cell_type": "code",
   "execution_count": 28,
   "id": "c16d49a8",
   "metadata": {},
   "outputs": [
    {
     "name": "stdout",
     "output_type": "stream",
     "text": [
      "[0.02506876 0.02381015 0.02005267 0.01904988 0.01905012 0.01904988\n",
      " 0.01904988 0.01804733 0.02005243 0.01904988]\n",
      "---------------\n",
      "[0.00601006 0.00601554 0.00501299 0.00503087 0.00401044 0.00401068\n",
      " 0.00501299 0.00501323 0.00501275 0.00501323]\n",
      "---------------\n",
      "[0.79786751 0.80036298 0.79854809 0.79922868 0.79922868 0.79627949\n",
      " 0.79990926 0.79446461 0.79950102 0.80131549]\n",
      "---------------\n",
      "[0.80612245 0.7877551  0.7877551  0.78571429 0.80816327 0.82040816\n",
      " 0.77959184 0.83469388 0.79345603 0.74437628]\n"
     ]
    }
   ],
   "source": [
    "print(rezultatLR['fit_time'])\n",
    "print('---------------')\n",
    "print(rezultatLR['score_time'])\n",
    "print('---------------')\n",
    "print(rezultatLR['train_accuracy'])\n",
    "print('---------------')\n",
    "print(rezultatLR['test_accuracy'])"
   ]
  },
  {
   "cell_type": "markdown",
   "id": "b0c47352",
   "metadata": {},
   "source": [
    "##### PRETRENIRANOST (LR)"
   ]
  },
  {
   "cell_type": "code",
   "execution_count": 29,
   "id": "de3e3756",
   "metadata": {},
   "outputs": [
    {
     "data": {
      "text/plain": [
       "{'fit_time': 0.02,\n",
       " 'score_time': 0.01,\n",
       " 'test_accuracy': 0.79,\n",
       " 'train_accuracy': 0.8,\n",
       " 'test_precision': 0.64,\n",
       " 'train_precision': 0.59,\n",
       " 'test_recall': 0.22,\n",
       " 'train_recall': 0.22,\n",
       " 'test_f1': 0.29,\n",
       " 'train_f1': 0.32}"
      ]
     },
     "execution_count": 29,
     "metadata": {},
     "output_type": "execute_result"
    }
   ],
   "source": [
    "agregatneMereLR = {}\n",
    "for measure, performance in rezultatLR.items():\n",
    "    agregatneMereLR.update({measure:np.round(np.mean(performance),2)})\n",
    "    \n",
    "agregatneMereLR    "
   ]
  },
  {
   "cell_type": "markdown",
   "id": "6643be16",
   "metadata": {},
   "source": [
    "#### KNN"
   ]
  },
  {
   "cell_type": "code",
   "execution_count": 30,
   "id": "9d14adee",
   "metadata": {},
   "outputs": [],
   "source": [
    "algoritamKNN = KNeighborsClassifier()"
   ]
  },
  {
   "cell_type": "code",
   "execution_count": 31,
   "id": "5fb75ecd",
   "metadata": {},
   "outputs": [
    {
     "data": {
      "text/plain": [
       "'Tačnost iznosi 75.25% +/- 3.0%'"
      ]
     },
     "execution_count": 31,
     "metadata": {},
     "output_type": "execute_result"
    }
   ],
   "source": [
    "rezultat_tacnostKNN = cross_val_score(algoritamKNN, X, y, cv=10, scoring='accuracy')\n",
    "f'Tačnost iznosi {round(np.mean(rezultat_tacnostKNN) * 100, 2)}% +/- {round(np.std(rezultat_tacnostKNN)*100, 2)}%'"
   ]
  },
  {
   "cell_type": "code",
   "execution_count": 32,
   "id": "08c29ff6",
   "metadata": {},
   "outputs": [
    {
     "data": {
      "text/plain": [
       "{'fit_time': array([0.01203108, 0.0090239 , 0.0087111 , 0.01002645, 0.00897455,\n",
       "        0.00904155, 0.01019931, 0.01031113, 0.01005864, 0.01002645]),\n",
       " 'score_time': array([0.02707148, 0.02105498, 0.02205777, 0.02057862, 0.02105522,\n",
       "        0.02105522, 0.02319527, 0.02105522, 0.02105498, 0.02061725]),\n",
       " 'test_accuracy': array([0.76734694, 0.78571429, 0.76734694, 0.75714286, 0.76326531,\n",
       "        0.79591837, 0.70816327, 0.74081633, 0.74437628, 0.69529652]),\n",
       " 'train_accuracy': array([0.86002722, 0.85775862, 0.86297641, 0.85753176, 0.853902  ,\n",
       "        0.85526316, 0.85685118, 0.8573049 , 0.85688365, 0.865956  ]),\n",
       " 'test_precision': array([0.42857143, 0.50819672, 0.43333333, 0.38181818, 0.39130435,\n",
       "        0.54285714, 0.33027523, 0.37647059, 0.40206186, 0.27835052]),\n",
       " 'train_precision': array([0.73113855, 0.72366621, 0.73972603, 0.72576177, 0.71648045,\n",
       "        0.72443182, 0.72032742, 0.72048847, 0.71736205, 0.74427995]),\n",
       " 'test_recall': array([0.22641509, 0.29245283, 0.24528302, 0.19811321, 0.16981132,\n",
       "        0.35849057, 0.33962264, 0.30188679, 0.36792453, 0.25471698]),\n",
       " 'train_recall': array([0.55870021, 0.55450734, 0.56603774, 0.54926625, 0.53773585,\n",
       "        0.53459119, 0.55345912, 0.55660377, 0.55870021, 0.57966457]),\n",
       " 'test_f1': array([0.2962963 , 0.37125749, 0.31325301, 0.26086957, 0.23684211,\n",
       "        0.43181818, 0.33488372, 0.33507853, 0.38423645, 0.26600985]),\n",
       " 'train_f1': array([0.63339275, 0.62789318, 0.64133017, 0.62529833, 0.61437126,\n",
       "        0.61519903, 0.62596325, 0.62803075, 0.62816735, 0.65173836])}"
      ]
     },
     "execution_count": 32,
     "metadata": {},
     "output_type": "execute_result"
    }
   ],
   "source": [
    "rezultatKNN = cross_validate(algoritamKNN, X, y, cv=10, scoring=['accuracy', 'precision', 'recall', 'f1'], return_train_score = True)\n",
    "rezultatKNN"
   ]
  },
  {
   "cell_type": "code",
   "execution_count": 33,
   "id": "ddd8a919",
   "metadata": {},
   "outputs": [
    {
     "name": "stdout",
     "output_type": "stream",
     "text": [
      "[0.01203108 0.0090239  0.0087111  0.01002645 0.00897455 0.00904155\n",
      " 0.01019931 0.01031113 0.01005864 0.01002645]\n",
      "---------------\n",
      "[0.02707148 0.02105498 0.02205777 0.02057862 0.02105522 0.02105522\n",
      " 0.02319527 0.02105522 0.02105498 0.02061725]\n",
      "---------------\n",
      "[0.86002722 0.85775862 0.86297641 0.85753176 0.853902   0.85526316\n",
      " 0.85685118 0.8573049  0.85688365 0.865956  ]\n",
      "---------------\n",
      "[0.76734694 0.78571429 0.76734694 0.75714286 0.76326531 0.79591837\n",
      " 0.70816327 0.74081633 0.74437628 0.69529652]\n"
     ]
    }
   ],
   "source": [
    "print(rezultatKNN['fit_time'])\n",
    "print('---------------')\n",
    "print(rezultatKNN['score_time'])\n",
    "print('---------------')\n",
    "print(rezultatKNN['train_accuracy'])\n",
    "print('---------------')\n",
    "print(rezultatKNN['test_accuracy'])"
   ]
  },
  {
   "cell_type": "markdown",
   "id": "f36c63c0",
   "metadata": {},
   "source": [
    "##### PRETRENIRANOST (KNN)"
   ]
  },
  {
   "cell_type": "code",
   "execution_count": 34,
   "id": "0f8419a0",
   "metadata": {},
   "outputs": [
    {
     "data": {
      "text/plain": [
       "{'fit_time': 0.01,\n",
       " 'score_time': 0.02,\n",
       " 'test_accuracy': 0.75,\n",
       " 'train_accuracy': 0.86,\n",
       " 'test_precision': 0.41,\n",
       " 'train_precision': 0.73,\n",
       " 'test_recall': 0.28,\n",
       " 'train_recall': 0.55,\n",
       " 'test_f1': 0.32,\n",
       " 'train_f1': 0.63}"
      ]
     },
     "execution_count": 34,
     "metadata": {},
     "output_type": "execute_result"
    }
   ],
   "source": [
    "agregatneMereKNN = {}\n",
    "for measure, performance in rezultatKNN.items():\n",
    "    agregatneMereKNN.update({measure:np.round(np.mean(performance),2)})\n",
    "    \n",
    "agregatneMereKNN  "
   ]
  },
  {
   "cell_type": "markdown",
   "id": "ad8c638d",
   "metadata": {},
   "source": [
    "#### NAIVNI BAJES"
   ]
  },
  {
   "cell_type": "code",
   "execution_count": 35,
   "id": "7997f048",
   "metadata": {},
   "outputs": [],
   "source": [
    "algoritamNB = KNeighborsClassifier()"
   ]
  },
  {
   "cell_type": "code",
   "execution_count": 36,
   "id": "758fbd17",
   "metadata": {},
   "outputs": [
    {
     "data": {
      "text/plain": [
       "'Tačnost iznosi 75.25% +/- 3.0%'"
      ]
     },
     "execution_count": 36,
     "metadata": {},
     "output_type": "execute_result"
    }
   ],
   "source": [
    "rezultat_tacnostNB = cross_val_score(algoritamNB, X, y, cv=10, scoring='accuracy')\n",
    "f'Tačnost iznosi {round(np.mean(rezultat_tacnostNB) * 100, 2)}% +/- {round(np.std(rezultat_tacnostNB)*100, 2)}%'"
   ]
  },
  {
   "cell_type": "code",
   "execution_count": 37,
   "id": "38ee5ee2",
   "metadata": {},
   "outputs": [
    {
     "data": {
      "text/plain": [
       "{'fit_time': array([0.01102781, 0.00908446, 0.00959015, 0.01002622, 0.0099287 ,\n",
       "        0.00898361, 0.00913858, 0.00903153, 0.00902534, 0.00991225]),\n",
       " 'score_time': array([0.02608061, 0.02199721, 0.02178478, 0.02134299, 0.0220561 ,\n",
       "        0.02211905, 0.0217402 , 0.02106118, 0.02126527, 0.02120733]),\n",
       " 'test_accuracy': array([0.76734694, 0.78571429, 0.76734694, 0.75714286, 0.76326531,\n",
       "        0.79591837, 0.70816327, 0.74081633, 0.74437628, 0.69529652]),\n",
       " 'train_accuracy': array([0.86002722, 0.85775862, 0.86297641, 0.85753176, 0.853902  ,\n",
       "        0.85526316, 0.85685118, 0.8573049 , 0.85688365, 0.865956  ]),\n",
       " 'test_precision': array([0.42857143, 0.50819672, 0.43333333, 0.38181818, 0.39130435,\n",
       "        0.54285714, 0.33027523, 0.37647059, 0.40206186, 0.27835052]),\n",
       " 'train_precision': array([0.73113855, 0.72366621, 0.73972603, 0.72576177, 0.71648045,\n",
       "        0.72443182, 0.72032742, 0.72048847, 0.71736205, 0.74427995]),\n",
       " 'test_recall': array([0.22641509, 0.29245283, 0.24528302, 0.19811321, 0.16981132,\n",
       "        0.35849057, 0.33962264, 0.30188679, 0.36792453, 0.25471698]),\n",
       " 'train_recall': array([0.55870021, 0.55450734, 0.56603774, 0.54926625, 0.53773585,\n",
       "        0.53459119, 0.55345912, 0.55660377, 0.55870021, 0.57966457]),\n",
       " 'test_f1': array([0.2962963 , 0.37125749, 0.31325301, 0.26086957, 0.23684211,\n",
       "        0.43181818, 0.33488372, 0.33507853, 0.38423645, 0.26600985]),\n",
       " 'train_f1': array([0.63339275, 0.62789318, 0.64133017, 0.62529833, 0.61437126,\n",
       "        0.61519903, 0.62596325, 0.62803075, 0.62816735, 0.65173836])}"
      ]
     },
     "execution_count": 37,
     "metadata": {},
     "output_type": "execute_result"
    }
   ],
   "source": [
    "rezultatNB = cross_validate(algoritamNB, X, y, cv=10, scoring=['accuracy', 'precision', 'recall', 'f1'], return_train_score = True)\n",
    "rezultatNB"
   ]
  },
  {
   "cell_type": "code",
   "execution_count": 38,
   "id": "0a1ac7de",
   "metadata": {},
   "outputs": [
    {
     "name": "stdout",
     "output_type": "stream",
     "text": [
      "[0.01102781 0.00908446 0.00959015 0.01002622 0.0099287  0.00898361\n",
      " 0.00913858 0.00903153 0.00902534 0.00991225]\n",
      "---------------\n",
      "[0.02608061 0.02199721 0.02178478 0.02134299 0.0220561  0.02211905\n",
      " 0.0217402  0.02106118 0.02126527 0.02120733]\n",
      "---------------\n",
      "[0.86002722 0.85775862 0.86297641 0.85753176 0.853902   0.85526316\n",
      " 0.85685118 0.8573049  0.85688365 0.865956  ]\n",
      "---------------\n",
      "[0.76734694 0.78571429 0.76734694 0.75714286 0.76326531 0.79591837\n",
      " 0.70816327 0.74081633 0.74437628 0.69529652]\n"
     ]
    }
   ],
   "source": [
    "print(rezultatNB['fit_time'])\n",
    "print('---------------')\n",
    "print(rezultatNB['score_time'])\n",
    "print('---------------')\n",
    "print(rezultatNB['train_accuracy'])\n",
    "print('---------------')\n",
    "print(rezultatNB['test_accuracy'])"
   ]
  },
  {
   "cell_type": "markdown",
   "id": "19fdc097",
   "metadata": {},
   "source": [
    "##### PRETRENIRANOST (NB)"
   ]
  },
  {
   "cell_type": "code",
   "execution_count": 39,
   "id": "69d6dca0",
   "metadata": {},
   "outputs": [
    {
     "data": {
      "text/plain": [
       "{'fit_time': 0.01,\n",
       " 'score_time': 0.02,\n",
       " 'test_accuracy': 0.75,\n",
       " 'train_accuracy': 0.86,\n",
       " 'test_precision': 0.41,\n",
       " 'train_precision': 0.73,\n",
       " 'test_recall': 0.28,\n",
       " 'train_recall': 0.55,\n",
       " 'test_f1': 0.32,\n",
       " 'train_f1': 0.63}"
      ]
     },
     "execution_count": 39,
     "metadata": {},
     "output_type": "execute_result"
    }
   ],
   "source": [
    "agregatneMereNB = {}\n",
    "for measure, performance in rezultatNB.items():\n",
    "    agregatneMereNB.update({measure:np.round(np.mean(performance),2)})\n",
    "    \n",
    "agregatneMereNB  "
   ]
  },
  {
   "cell_type": "markdown",
   "id": "b69d9335",
   "metadata": {},
   "source": [
    "### GRANICA ODLUCIVANJA"
   ]
  },
  {
   "cell_type": "markdown",
   "id": "9aa15ccf",
   "metadata": {},
   "source": [
    "#### Skuplja greska je FP  - bolje je da neko dobro vino ne svrstamo medju premijum vina nego da neko lose vino svrstamo u premijum vina."
   ]
  },
  {
   "cell_type": "code",
   "execution_count": 40,
   "id": "dd32c70e",
   "metadata": {},
   "outputs": [
    {
     "name": "stdout",
     "output_type": "stream",
     "text": [
      "FUNKCIJA PREDICT\n",
      "Accuracy: 0.8081632653061225\n",
      "Precision: 0.5669291338582677\n",
      "Recall: 0.2408026755852843\n",
      "F1: 0.33802816901408456\n",
      "NAŠA FUNKCIJA PREDICT\n",
      "Accuracy: 0.8006802721088435\n",
      "Precision: 0.6875\n",
      "Recall: 0.03678929765886288\n",
      "F1: 0.06984126984126986\n"
     ]
    }
   ],
   "source": [
    "print('FUNKCIJA PREDICT')\n",
    "performanse(y_test, y_predikcijeLR)\n",
    "\n",
    "y_predikcijeLR = modelLR.predict_proba(X_test)[:, 1] >= 0.7\n",
    "\n",
    "print('NAŠA FUNKCIJA PREDICT')\n",
    "performanse(y_test, y_predikcijeLR)"
   ]
  },
  {
   "cell_type": "code",
   "execution_count": 41,
   "id": "dedd6763",
   "metadata": {},
   "outputs": [
    {
     "data": {
      "text/plain": [
       "array([[1116,   55],\n",
       "       [ 227,   72]], dtype=int64)"
      ]
     },
     "execution_count": 41,
     "metadata": {},
     "output_type": "execute_result"
    }
   ],
   "source": [
    "confusion_matrix(y_test, modelLR.predict(X_test))"
   ]
  },
  {
   "cell_type": "code",
   "execution_count": 42,
   "id": "e2adced5",
   "metadata": {},
   "outputs": [
    {
     "data": {
      "text/plain": [
       "array([[1166,    5],\n",
       "       [ 288,   11]], dtype=int64)"
      ]
     },
     "execution_count": 42,
     "metadata": {},
     "output_type": "execute_result"
    }
   ],
   "source": [
    "y_predikcijeLR = modelLR.predict_proba(X_test)[:, 1] >= 0.7\n",
    "\n",
    "confusion_matrix(y_test, y_predikcijeLR)"
   ]
  },
  {
   "cell_type": "code",
   "execution_count": 43,
   "id": "b6edc2f5",
   "metadata": {},
   "outputs": [
    {
     "name": "stdout",
     "output_type": "stream",
     "text": [
      "Accuracy: 0.8006802721088435\n",
      "Precision: 0.6875\n",
      "Recall: 0.03678929765886288\n",
      "F1: 0.06984126984126986\n"
     ]
    }
   ],
   "source": [
    "performanse(y_test, y_predikcijeLR)"
   ]
  },
  {
   "cell_type": "markdown",
   "id": "a4626f48",
   "metadata": {},
   "source": [
    "#  DRUGI DEO"
   ]
  },
  {
   "cell_type": "code",
   "execution_count": 47,
   "id": "10c08fd5",
   "metadata": {},
   "outputs": [],
   "source": [
    "from sklearn.linear_model import Ridge\n",
    "from sklearn.datasets import make_classification\n",
    "from sklearn.datasets import make_regression\n",
    "from sklearn.metrics import mean_squared_error\n",
    "from sklearn.metrics import mean_absolute_error\n",
    "from sklearn.metrics import make_scorer\n",
    "from sklearn.metrics import r2_score\n",
    "from sklearn.model_selection import KFold\n",
    "from matplotlib import pyplot as plt\n",
    "from sklearn.ensemble import RandomForestRegressor\n",
    "from sklearn.pipeline import Pipeline\n",
    "from sklearn.impute import SimpleImputer\n",
    "from sklearn.preprocessing import OneHotEncoder\n",
    "from sklearn.compose import ColumnTransformer\n",
    "from sklearn.tree import DecisionTreeRegressor\n",
    "from sklearn.model_selection import GridSearchCV"
   ]
  },
  {
   "cell_type": "code",
   "execution_count": 58,
   "id": "61cb1ad4",
   "metadata": {},
   "outputs": [
    {
     "data": {
      "text/html": [
       "<div>\n",
       "<style scoped>\n",
       "    .dataframe tbody tr th:only-of-type {\n",
       "        vertical-align: middle;\n",
       "    }\n",
       "\n",
       "    .dataframe tbody tr th {\n",
       "        vertical-align: top;\n",
       "    }\n",
       "\n",
       "    .dataframe thead th {\n",
       "        text-align: right;\n",
       "    }\n",
       "</style>\n",
       "<table border=\"1\" class=\"dataframe\">\n",
       "  <thead>\n",
       "    <tr style=\"text-align: right;\">\n",
       "      <th></th>\n",
       "      <th>age</th>\n",
       "      <th>sex</th>\n",
       "      <th>bmi</th>\n",
       "      <th>children</th>\n",
       "      <th>smoker</th>\n",
       "      <th>region</th>\n",
       "      <th>charges</th>\n",
       "    </tr>\n",
       "  </thead>\n",
       "  <tbody>\n",
       "    <tr>\n",
       "      <th>0</th>\n",
       "      <td>19</td>\n",
       "      <td>female</td>\n",
       "      <td>27.900</td>\n",
       "      <td>0</td>\n",
       "      <td>yes</td>\n",
       "      <td>southwest</td>\n",
       "      <td>16884.92400</td>\n",
       "    </tr>\n",
       "    <tr>\n",
       "      <th>1</th>\n",
       "      <td>18</td>\n",
       "      <td>male</td>\n",
       "      <td>33.770</td>\n",
       "      <td>1</td>\n",
       "      <td>no</td>\n",
       "      <td>southeast</td>\n",
       "      <td>1725.55230</td>\n",
       "    </tr>\n",
       "    <tr>\n",
       "      <th>2</th>\n",
       "      <td>28</td>\n",
       "      <td>male</td>\n",
       "      <td>33.000</td>\n",
       "      <td>3</td>\n",
       "      <td>no</td>\n",
       "      <td>southeast</td>\n",
       "      <td>4449.46200</td>\n",
       "    </tr>\n",
       "    <tr>\n",
       "      <th>3</th>\n",
       "      <td>33</td>\n",
       "      <td>male</td>\n",
       "      <td>22.705</td>\n",
       "      <td>0</td>\n",
       "      <td>no</td>\n",
       "      <td>northwest</td>\n",
       "      <td>21984.47061</td>\n",
       "    </tr>\n",
       "    <tr>\n",
       "      <th>4</th>\n",
       "      <td>32</td>\n",
       "      <td>male</td>\n",
       "      <td>28.880</td>\n",
       "      <td>0</td>\n",
       "      <td>no</td>\n",
       "      <td>northwest</td>\n",
       "      <td>3866.85520</td>\n",
       "    </tr>\n",
       "  </tbody>\n",
       "</table>\n",
       "</div>"
      ],
      "text/plain": [
       "   age     sex     bmi  children smoker     region      charges\n",
       "0   19  female  27.900         0    yes  southwest  16884.92400\n",
       "1   18    male  33.770         1     no  southeast   1725.55230\n",
       "2   28    male  33.000         3     no  southeast   4449.46200\n",
       "3   33    male  22.705         0     no  northwest  21984.47061\n",
       "4   32    male  28.880         0     no  northwest   3866.85520"
      ]
     },
     "execution_count": 58,
     "metadata": {},
     "output_type": "execute_result"
    }
   ],
   "source": [
    "osiguranje = pd.read_csv('insurance.csv')\n",
    "osiguranje.head()"
   ]
  },
  {
   "cell_type": "code",
   "execution_count": 59,
   "id": "af879b38",
   "metadata": {},
   "outputs": [
    {
     "name": "stdout",
     "output_type": "stream",
     "text": [
      "<class 'pandas.core.frame.DataFrame'>\n",
      "RangeIndex: 1338 entries, 0 to 1337\n",
      "Data columns (total 7 columns):\n",
      " #   Column    Non-Null Count  Dtype  \n",
      "---  ------    --------------  -----  \n",
      " 0   age       1338 non-null   int64  \n",
      " 1   sex       1338 non-null   object \n",
      " 2   bmi       1338 non-null   float64\n",
      " 3   children  1338 non-null   int64  \n",
      " 4   smoker    1338 non-null   object \n",
      " 5   region    1338 non-null   object \n",
      " 6   charges   1338 non-null   float64\n",
      "dtypes: float64(2), int64(2), object(3)\n",
      "memory usage: 73.3+ KB\n"
     ]
    }
   ],
   "source": [
    "osiguranje.info()"
   ]
  },
  {
   "cell_type": "markdown",
   "id": "ea1aebff",
   "metadata": {},
   "source": [
    "## Razdvajanje osiguranja na trening i test set"
   ]
  },
  {
   "cell_type": "code",
   "execution_count": 60,
   "id": "ec19ae78",
   "metadata": {},
   "outputs": [],
   "source": [
    "X = osiguranje.iloc[:,:-1]\n",
    "y = osiguranje.iloc[:,-1]\n",
    "\n",
    "X_train, X_test, y_train, y_test = train_test_split(X, y,test_size=0.3, random_state=4218)"
   ]
  },
  {
   "cell_type": "markdown",
   "id": "6f3a2820",
   "metadata": {},
   "source": [
    "### provera da li postoje nedostajuce vrednosti\n"
   ]
  },
  {
   "cell_type": "code",
   "execution_count": 61,
   "id": "24c1d90c",
   "metadata": {},
   "outputs": [
    {
     "data": {
      "text/plain": [
       "age         0\n",
       "sex         0\n",
       "bmi         0\n",
       "children    0\n",
       "smoker      0\n",
       "region      0\n",
       "dtype: int64"
      ]
     },
     "execution_count": 61,
     "metadata": {},
     "output_type": "execute_result"
    }
   ],
   "source": [
    "X_train.isna().sum()"
   ]
  },
  {
   "cell_type": "code",
   "execution_count": 62,
   "id": "659a363b",
   "metadata": {},
   "outputs": [],
   "source": [
    "kategorickeKolone = list(X_train.select_dtypes(include = 'object').columns)\n",
    "numerickeKolone = list(X_train.select_dtypes(exclude = 'object').columns)"
   ]
  },
  {
   "cell_type": "markdown",
   "id": "02152ce1",
   "metadata": {},
   "source": [
    "## Kreiranje pipline-a"
   ]
  },
  {
   "cell_type": "code",
   "execution_count": 63,
   "id": "5469ab1a",
   "metadata": {},
   "outputs": [],
   "source": [
    "# Zamena nedostajućih vrednosti srednjom vrednošću\n",
    "\n",
    "numerickiTransformer = SimpleImputer(strategy='mean')  \n",
    "\n",
    "kategorickiTransformer = Pipeline(steps=[\n",
    "    ('imputer', SimpleImputer(strategy='most_frequent')),  # Zamena nedostajućih vrednosti najčešćom vrednošću\n",
    "    ('onehot', OneHotEncoder(handle_unknown='ignore'))  # Pretvaranje kategoričkih atributa u numeričke\n",
    "])\n",
    "\n",
    "preprocessor = ColumnTransformer(\n",
    "    transformers=[\n",
    "        ('num', numerickiTransformer, numerickeKolone),\n",
    "        ('cat', kategorickiTransformer, kategorickeKolone)\n",
    "    ]\n",
    ")\n",
    "\n",
    "pipeline = Pipeline(steps=[('preprocessor', preprocessor),\n",
    "                            ('regressor', DecisionTreeRegressor(random_state=4218))])"
   ]
  },
  {
   "cell_type": "markdown",
   "id": "03d141b4",
   "metadata": {},
   "source": [
    "### RMSE "
   ]
  },
  {
   "cell_type": "code",
   "execution_count": 64,
   "id": "cc54104e",
   "metadata": {},
   "outputs": [
    {
     "name": "stdout",
     "output_type": "stream",
     "text": [
      "Prosečna RMSE ocena: 7321.062200896628\n"
     ]
    }
   ],
   "source": [
    "RMSESkorovi = cross_val_score(pipeline, X_train, y_train, scoring='neg_root_mean_squared_error', cv=5)\n",
    "prosecniRMSE = -RMSESkorovi.mean()\n",
    "print(f'Prosečna RMSE ocena: {prosecniRMSE}')"
   ]
  },
  {
   "cell_type": "markdown",
   "id": "2164dfc4",
   "metadata": {},
   "source": [
    "### Optimizacija regresionog stabla (max_depth i  min_samples_split)"
   ]
  },
  {
   "cell_type": "code",
   "execution_count": 66,
   "id": "97ce191c",
   "metadata": {},
   "outputs": [
    {
     "name": "stdout",
     "output_type": "stream",
     "text": [
      "default max_depth: None\n",
      "default min_samples_split: 2\n",
      "\n",
      "Najbolji parametri: {'regressor__max_depth': 5, 'regressor__min_samples_split': 20}\n",
      "Najbolja RMSE ocena: 4961.011509425472\n"
     ]
    }
   ],
   "source": [
    "print(f\"default max_depth: {pipeline.named_steps['regressor'].get_params()['max_depth']}\")\n",
    "print(f\"default min_samples_split: {pipeline.named_steps['regressor'].get_params()['min_samples_split']}\")\n",
    "\n",
    "\n",
    "#parametri za optimizaciju\n",
    "param_grid = {\n",
    "    'regressor__max_depth': [None, 5, 10, 15],\n",
    "    'regressor__min_samples_split': [2, 5, 10, 20]\n",
    "}\n",
    "\n",
    "grid_search = GridSearchCV(pipeline, param_grid, scoring='neg_root_mean_squared_error', cv=5)\n",
    "grid_search.fit(X_train, y_train)\n",
    "\n",
    "# rezultati optimizacije\n",
    "print()\n",
    "print(f'Najbolji parametri: {grid_search.best_params_}')\n",
    "print(f'Najbolja RMSE ocena: {-grid_search.best_score_}')"
   ]
  },
  {
   "cell_type": "markdown",
   "id": "9cf8e2e5",
   "metadata": {},
   "source": [
    "### Najbolji model i scatter plot stvarnih i predvidjenih vrednosti"
   ]
  },
  {
   "cell_type": "code",
   "execution_count": 68,
   "id": "a7b6e0fc",
   "metadata": {},
   "outputs": [
    {
     "data": {
      "image/png": "[encoded data removed]",
      "text/plain": [
       "<Figure size 640x480 with 1 Axes>"
      ]
     },
     "metadata": {},
     "output_type": "display_data"
    }
   ],
   "source": [
    "najboljiModel = grid_search.best_estimator_\n",
    "\n",
    "# Predikcije na test skupu\n",
    "y_predikcije = najboljiModel.predict(X_test)\n",
    "\n",
    "# Scatter plot\n",
    "plt.scatter(y_predikcije,y_test)\n",
    "plt.xlabel('Predviđene vrednosti')\n",
    "plt.ylabel('Stvarne vrednosti')\n",
    "plt.title('Scatter plot stvarnih i predviđenih vrednosti')\n",
    "plt.show()"
   ]
  }
 ],
 "metadata": {
  "kernelspec": {
   "display_name": "Python 3 (ipykernel)",
   "language": "python",
   "name": "python3"
  },
  "language_info": {
   "codemirror_mode": {
    "name": "ipython",
    "version": 3
   },
   "file_extension": ".py",
   "mimetype": "text/x-python",
   "name": "python",
   "nbconvert_exporter": "python",
   "pygments_lexer": "ipython3",
   "version": "3.11.5"
  }
 },
 "nbformat": 4,
 "nbformat_minor": 5
}
